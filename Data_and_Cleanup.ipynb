{
 "cells": [
  {
   "cell_type": "markdown",
   "metadata": {},
   "source": [
    "# Data Exploration and Cleanup"
   ]
  },
  {
   "cell_type": "markdown",
   "metadata": {},
   "source": [
    "The data that was used for the project camne form 2 places.\n",
    "*The Los Angeles Open Data Website (https://data.lacity.org/)\n",
    "*Weather Underground (https://www.wunderground.com/history/)"
   ]
  },
  {
   "cell_type": "markdown",
   "metadata": {},
   "source": [
    "# The Cleanup Process"
   ]
  },
  {
   "cell_type": "markdown",
   "metadata": {},
   "source": [
    "The data from both of these ordaniztions was remarkably clean.  The only data that I need to maipulated through the use of pandas was from the Cioty of Los Angeles.  Within the LA Transportation data there were quite a few null values in \"Meter ID\", \"Vin\", and \"Long\"/\"Lat\".  In order to overcome thos values I created a dictionary and did not utilize those columns. \n",
    "\n",
    "The Weather Wunderground weather data was clean and did not need manulupation"
   ]
  },
  {
   "cell_type": "code",
   "execution_count": null,
   "metadata": {},
   "outputs": [],
   "source": []
  }
 ],
 "metadata": {
  "kernelspec": {
   "display_name": "Python 3",
   "language": "python",
   "name": "python3"
  },
  "language_info": {
   "codemirror_mode": {
    "name": "ipython",
    "version": 3
   },
   "file_extension": ".py",
   "mimetype": "text/x-python",
   "name": "python",
   "nbconvert_exporter": "python",
   "pygments_lexer": "ipython3",
   "version": "3.6.8"
  }
 },
 "nbformat": 4,
 "nbformat_minor": 2
}
